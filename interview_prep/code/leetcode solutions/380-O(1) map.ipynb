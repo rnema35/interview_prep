{
 "cells": [
  {
   "cell_type": "code",
   "execution_count": 1,
   "metadata": {},
   "outputs": [],
   "source": [
    "#leet code 380\n",
    "import random\n",
    "\n",
    "class RandomizedSet: \n",
    "\n",
    "    def __init__(self):\n",
    "        self.values = []\n",
    "        self.index_map = {}\n",
    "    \n",
    "    def insert(self, val):\n",
    "        if val in self.index_map:\n",
    "            return False\n",
    "        else:\n",
    "            self.index_map[val] = len(self.values)\n",
    "            self.values.append(val)\n",
    "\n",
    "            return True\n",
    "\n",
    "    def delete(self, val):\n",
    "        if val not in self.index_map:\n",
    "            return False\n",
    "\n",
    "        index_to_switch = self.index_map[val]\n",
    "        temp = self.values[-1]\n",
    "\n",
    "        self.values[index_to_switch] = temp\n",
    "        self.index_map[temp] = index_to_switch\n",
    "\n",
    "        self.values.pop()\n",
    "        del self.index_map[val]\n",
    "\n",
    "        return True\n",
    "\n",
    "    def getRandom(self):\n",
    "        return random.choice(self.values)"
   ]
  }
 ],
 "metadata": {
  "kernelspec": {
   "display_name": "Python 3",
   "language": "python",
   "name": "python3"
  },
  "language_info": {
   "codemirror_mode": {
    "name": "ipython",
    "version": 3
   },
   "file_extension": ".py",
   "mimetype": "text/x-python",
   "name": "python",
   "nbconvert_exporter": "python",
   "pygments_lexer": "ipython3",
   "version": "3.12.4"
  }
 },
 "nbformat": 4,
 "nbformat_minor": 2
}
