{
 "cells": [
  {
   "cell_type": "code",
   "execution_count": null,
   "metadata": {},
   "outputs": [],
   "source": [
    "#Solution 1\n",
    "\n",
    "class Solution:\n",
    "    def hIndex(self, citations: List[int]) -> int:\n",
    "        currIndex = 0\n",
    "        while True:\n",
    "            citations = [x - 1 for x in citations]\n",
    "            currIndex += 1\n",
    "\n",
    "            currPositives = 0\n",
    "            for i in citations:\n",
    "                if i >= 0:\n",
    "                    currPositives += 1\n",
    "\n",
    "            if currPositives < currIndex:\n",
    "                return currIndex - 1"
   ]
  }
 ],
 "metadata": {
  "kernelspec": {
   "display_name": "Python 3",
   "language": "python",
   "name": "python3"
  },
  "language_info": {
   "name": "python",
   "version": "3.12.4"
  }
 },
 "nbformat": 4,
 "nbformat_minor": 2
}
