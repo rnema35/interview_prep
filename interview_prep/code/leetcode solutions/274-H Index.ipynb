{
 "cells": [
  {
   "cell_type": "code",
   "execution_count": null,
   "metadata": {},
   "outputs": [],
   "source": [
    "#Solution 1\n",
    "\n",
    "class Solution:\n",
    "    def hIndex(self, citations: List[int]) -> int:\n",
    "        currIndex = 0\n",
    "        while True:\n",
    "            citations = [x - 1 for x in citations]\n",
    "            currIndex += 1\n",
    "\n",
    "            currPositives = 0\n",
    "            for i in citations:\n",
    "                if i >= 0:\n",
    "                    currPositives += 1\n",
    "\n",
    "            if currPositives < currIndex:\n",
    "                return currIndex - 1"
   ]
  },
  {
   "cell_type": "code",
   "execution_count": 22,
   "metadata": {},
   "outputs": [
    {
     "name": "stdout",
     "output_type": "stream",
     "text": [
      "[0, 1, 3, 5, 6]\n",
      "-1\n",
      "6\n",
      "-2\n",
      "5\n",
      "-3\n",
      "3\n"
     ]
    },
    {
     "data": {
      "text/plain": [
       "3"
      ]
     },
     "execution_count": 22,
     "metadata": {},
     "output_type": "execute_result"
    }
   ],
   "source": [
    "def hIndex(citations):\n",
    "    citations.sort()\n",
    "    print(citations)\n",
    "\n",
    "    for i in range(1, len(citations)):\n",
    "        print(-i)\n",
    "        print(citations[-i])\n",
    "        if citations[-i] <= i:\n",
    "            return citations[-i]\n",
    "\n",
    "    \n",
    "\n",
    "arr = [3, 0, 6, 1, 5]\n",
    "arr2 = [1, 3, 1]\n",
    "hIndex(arr)"
   ]
  },
  {
   "cell_type": "code",
   "execution_count": 26,
   "metadata": {},
   "outputs": [
    {
     "name": "stdout",
     "output_type": "stream",
     "text": [
      "0 30\n",
      "1 8\n",
      "2 6\n",
      "3 5\n",
      "4 3\n",
      "4\n"
     ]
    }
   ],
   "source": [
    "x = [5, 6, 8, 3, 30]\n",
    "h = 0\n",
    "x.sort(reverse=True)\n",
    "for i, c in enumerate(x):\n",
    "    print(i, c)\n",
    "    if i + 1 < c:\n",
    "        h = i + 1\n",
    "    else: \n",
    "        break\n",
    "\n",
    "print(h)"
   ]
  }
 ],
 "metadata": {
  "kernelspec": {
   "display_name": "Python 3",
   "language": "python",
   "name": "python3"
  },
  "language_info": {
   "codemirror_mode": {
    "name": "ipython",
    "version": 3
   },
   "file_extension": ".py",
   "mimetype": "text/x-python",
   "name": "python",
   "nbconvert_exporter": "python",
   "pygments_lexer": "ipython3",
   "version": "3.12.4"
  }
 },
 "nbformat": 4,
 "nbformat_minor": 2
}
