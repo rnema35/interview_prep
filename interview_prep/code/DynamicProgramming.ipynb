{
 "cells": [
  {
   "cell_type": "code",
   "execution_count": 8,
   "metadata": {},
   "outputs": [],
   "source": [
    "import pandas as pd"
   ]
  },
  {
   "cell_type": "markdown",
   "metadata": {},
   "source": [
    "The different type of Dynamic Programmin"
   ]
  },
  {
   "cell_type": "code",
   "execution_count": 20,
   "metadata": {},
   "outputs": [
    {
     "name": "stdout",
     "output_type": "stream",
     "text": [
      "      0      1      2      3      4      5      6      7      8      9\n",
      "0  True  False  False  False  False  False  False  False  False  False\n",
      "1  True  False  False   True  False  False  False  False  False  False\n",
      "2  True  False   True   True  False   True  False  False  False  False\n",
      "3  True  False   True   True  False   True  False  False  False  False\n",
      "4  True  False   True   True   True   True   True   True  False   True\n",
      "5  True  False   True   True   True   True   True   True  False   True\n",
      "6  True  False   True   True   True   True   True   True   True   True\n",
      "Does it subset?:  True\n"
     ]
    }
   ],
   "source": [
    "# Subset Sum\n",
    "# Given an array in integers and targetSum, is there a subset where sum(subset) = targetSum\n",
    "def subsetSum(nums, sum):\n",
    "    n = len(nums)\n",
    "\n",
    "    #adding a plus 1 to account for 0\n",
    "    memo  = [ [False] * (sum+1) for _ in range(n+1) ]\n",
    "\n",
    "    #if the sum is 0, then the empty subset is always true\n",
    "    for i in range(n+1):\n",
    "        memo[i][0] = True\n",
    "\n",
    "    #go through all the items\n",
    "    for i in range(1, n+1):\n",
    "        #for each possible value leading up to sum\n",
    "        for j in range(1, sum+1):\n",
    "\n",
    "            #if the current value is bigger than j, we exclude it\n",
    "            if nums[i-1] > j:\n",
    "                memo[i][j] = memo[i-1][j]\n",
    "            #if we can include it, see if we should\n",
    "            else:\n",
    "                #either we take it (can subtract it from sum and go backwards to a True) or don't (taking it doesn't help us)\n",
    "                memo[i][j] = memo[i-1][j - nums[i-1]] or memo[i-1][j]\n",
    "\n",
    "\n",
    "    print(pd.DataFrame(memo))\n",
    "    return memo[n][sum]\n",
    "\n",
    "\n",
    "\n",
    "arr = [3, 2, 34, 4, 12, 5]\n",
    "sum = 9\n",
    "print(\"Does it subset?: \", subsetSum(arr, sum))"
   ]
  },
  {
   "cell_type": "code",
   "execution_count": null,
   "metadata": {},
   "outputs": [
    {
     "name": "stdout",
     "output_type": "stream",
     "text": [
      "   0   1   2   3   4   5   6   7   8   9   10  11  12\n",
      "0   0   0   0   0   0   0   0   0   0   0   0   0   0\n",
      "1   0   3   3   3   3   3   3   3   3   3   3   3   3\n",
      "2   0   3   5   5   5   5   5   5   5   5   5   5   5\n",
      "3   0   3  34  37  39  39  39  39  39  39  39  39  39\n",
      "4   0   3  34  37  39  39  39  39  41  43  43  43  43\n",
      "5   0  12  34  46  49  51  51  51  51  53  55  55  55\n",
      "6   0  12  34  46  49  51  54  56  56  56  56  58  60\n",
      "Maximum Profit:  60\n"
     ]
    }
   ],
   "source": [
    "#0/1 Knapsack\n",
    "#Given a list of items worth money with corresponding weight, what is the maximum profit\n",
    "#Each Item can only be taken once\n",
    "def ZeroOneKnapsack(W, weights, values):\n",
    "    n = len(weights)\n",
    "    memo = [ [0]*(W+1) for _ in range(n + 1) ]\n",
    "\n",
    "    #go through all the objects\n",
    "    for i in range(1, n+1):\n",
    "        #all possible weights\n",
    "        for j in range(1, W+1):\n",
    "\n",
    "            #can't take the item, so we skip it at this weight\n",
    "            if weights[i-1] > j:\n",
    "                memo[i][j] = memo[i-1][j]\n",
    "            #can take the item\n",
    "            else:\n",
    "                #maximum of taking the item or don't take the item\n",
    "                memo[i][j] = max(memo[i-1][j-weights[i-1]] + values[i-1], memo[i-1][j])\n",
    "\n",
    "    print(pd.DataFrame(memo))\n",
    "    return memo[-1][-1]\n",
    "\n",
    "values = [3, 2, 34, 4, 12, 5]\n",
    "weights = [1, 1, 2, 5, 1, 2]\n",
    "W = 12\n",
    "print(\"Maximum Profit: \", ZeroOneKnapsack(W, weights, values))"
   ]
  },
  {
   "cell_type": "markdown",
   "metadata": {},
   "source": [
    "For unbounded knapsack, you can do something similar to the coin change, either you go back on your own row or you go back to a different object/coin"
   ]
  },
  {
   "cell_type": "code",
   "execution_count": null,
   "metadata": {},
   "outputs": [
    {
     "name": "stdout",
     "output_type": "stream",
     "text": [
      "   0    1    2    3    4    5    6    7    8    9    10   11   12   13   14  \\\n",
      "0   0  inf  inf  inf  inf  inf  inf  inf  inf  inf  inf  inf  inf  inf  inf   \n",
      "1   0  inf  1.0  inf  2.0  inf  3.0  inf  4.0  inf  5.0  inf  6.0  inf  7.0   \n",
      "2   0  inf  1.0  inf  2.0  1.0  3.0  2.0  4.0  3.0  2.0  4.0  3.0  5.0  4.0   \n",
      "3   0  inf  1.0  inf  2.0  1.0  3.0  2.0  4.0  3.0  1.0  4.0  2.0  5.0  3.0   \n",
      "4   0  1.0  1.0  2.0  2.0  1.0  2.0  2.0  3.0  3.0  1.0  2.0  2.0  3.0  3.0   \n",
      "\n",
      "    15   16   17  \n",
      "0  inf  inf  inf  \n",
      "1  inf  8.0  inf  \n",
      "2  3.0  5.0  4.0  \n",
      "3  2.0  4.0  3.0  \n",
      "4  2.0  3.0  3.0  \n"
     ]
    },
    {
     "data": {
      "text/plain": [
       "3"
      ]
     },
     "execution_count": 38,
     "metadata": {},
     "output_type": "execute_result"
    }
   ],
   "source": [
    "#coin change problem - basically subset sum but you store min num coins\n",
    "#the target sum in this case is just the amount\n",
    "#kinda like knap sack actually, where u are doing min instead of max\n",
    "\n",
    "def coinChange(coins, amount):\n",
    "    n = len(coins)\n",
    "\n",
    "    memo = [ [float('inf')]*(amount+1) for _ in range(n+1) ]\n",
    "\n",
    "    for i in range(n+1):\n",
    "        memo[i][0] = 0\n",
    "\n",
    "    for i in range(1, n+1):\n",
    "        for j in range(1, amount+1):\n",
    "            if coins[i-1] > j:\n",
    "                memo[i][j] = memo[i-1][j]\n",
    "            else:\n",
    "                memo[i][j] = min(memo[i][j- coins[i-1]] + 1, memo[i-1][j])\n",
    "\n",
    "    print(pd.DataFrame(memo))\n",
    "    return memo[n][amount] if memo[n][amount] != float('inf') else -1\n",
    "\n",
    "coins = [2, 5, 10, 1]\n",
    "amount = 17\n",
    "coinChange(coins, amount)\n"
   ]
  },
  {
   "cell_type": "code",
   "execution_count": null,
   "metadata": {},
   "outputs": [
    {
     "name": "stdout",
     "output_type": "stream",
     "text": [
      "   0  1  2  3\n",
      "0  0  1  2  3\n",
      "1  1  1  2  3\n",
      "2  2  2  1  2\n",
      "3  3  2  2  2\n",
      "4  4  3  3  2\n",
      "5  5  4  4  3\n"
     ]
    },
    {
     "data": {
      "text/plain": [
       "3"
      ]
     },
     "execution_count": 27,
     "metadata": {},
     "output_type": "execute_result"
    }
   ],
   "source": [
    "#given two words, what is the minimum number of changes you have to do to word1 to make it to word2\n",
    "#else statement has 3 parameters:\n",
    "#1 - replace a letter [i-1][j-1] represent word1[:i-1] and word2[:j-1] aka the character before you are at for both words\n",
    "#    you can choose to replace the current character\n",
    "#2 - delete a character [i-1][j] represents word1[:i-1] and word2[:j] aka skip the current character\n",
    "#3 - insert a character, basically the opposite of number 2\n",
    "\n",
    "#need to figure out how to do this without testing\n",
    "#need to ask myself - what do these indicies and subproblems represent\n",
    "#need to go through the table a little slower and at everystep see what logic my brain is inherently implementing\n",
    "\n",
    "def minDistance(word1, word2):\n",
    "        n = len(word1)\n",
    "        m = len(word2)\n",
    "        #extra space for the null string option and last space for the end character option?\n",
    "        memo = [ [float('inf')]*(m+1) for _ in range(n+1) ]\n",
    "\n",
    "        for i in range(n+1):\n",
    "            memo[i][0] = i\n",
    "        for j in range(m+1):\n",
    "            memo[0][j] = j\n",
    "\n",
    "        #word 1\n",
    "        for i in range(1, n+1):\n",
    "             #word 2\n",
    "            for j in range(1, m+1):\n",
    "                #if the letters match up\n",
    "                if word1[i-1] == word2[j-1]:\n",
    "                    memo[i][j] = memo[i-1][j-1]\n",
    "                else:\n",
    "                    #if i'm the same as the last letter, delete my prev letter?\n",
    "                    memo[i][j] = min(memo[i-1][j-1] + 1, memo[i-1][j] + 1, memo[i][j-1] + 1)\n",
    "                             \n",
    "        print(pd.DataFrame(memo))\n",
    "        return memo[n][m]\n",
    "\n",
    "word1 = 'horse'\n",
    "word2 = 'ros'\n",
    "minDistance(word1, word2)"
   ]
  },
  {
   "cell_type": "code",
   "execution_count": 11,
   "metadata": {},
   "outputs": [
    {
     "name": "stdout",
     "output_type": "stream",
     "text": [
      "position: 0 item: 2\n",
      "1\n",
      "2\n",
      "[0, 1, 1, 0, 0]\n",
      "position: 1 item: 3\n",
      "1\n",
      "2\n",
      "3\n",
      "[0, 1, 1, 2, 2]\n",
      "position: 2 item: 1\n",
      "1\n",
      "[0, 1, 1, 2, 2]\n",
      "position: 3 item: 1\n",
      "1\n",
      "[0, 1, 1, 2, 2]\n",
      "position: 4 item: 4\n",
      "[0, 1, 1, 2, 2]\n",
      "2\n"
     ]
    }
   ],
   "source": [
    "#Leetcode 45- Jump Game 2\n",
    "\n",
    "def jump(nums):\n",
    "        dp = [0 for _ in range(len(nums))]\n",
    "\n",
    "        for i in range(0, len(nums)):\n",
    "            print(\"position:\", i, \"item:\", nums[i])\n",
    "            for j in range(1, nums[i]+1):\n",
    "                if i+j < len(nums):\n",
    "                    print(j)\n",
    "                    if dp[i+j] != 0:\n",
    "                        dp[i + j] = min(dp[i+j], dp[i] + 1)\n",
    "                    else:\n",
    "                        dp[i + j] = (dp[i] + 1)\n",
    "            print(dp)\n",
    "\n",
    "        return dp[-1] \n",
    "\n",
    "arr = [2, 3, 1, 1, 4]\n",
    "\n",
    "print(jump(arr))\n"
   ]
  },
  {
   "cell_type": "code",
   "execution_count": null,
   "metadata": {},
   "outputs": [],
   "source": []
  }
 ],
 "metadata": {
  "kernelspec": {
   "display_name": "Python 3",
   "language": "python",
   "name": "python3"
  },
  "language_info": {
   "codemirror_mode": {
    "name": "ipython",
    "version": 3
   },
   "file_extension": ".py",
   "mimetype": "text/x-python",
   "name": "python",
   "nbconvert_exporter": "python",
   "pygments_lexer": "ipython3",
   "version": "3.12.4"
  }
 },
 "nbformat": 4,
 "nbformat_minor": 2
}
