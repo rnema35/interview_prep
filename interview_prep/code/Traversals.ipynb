{
 "cells": [
  {
   "cell_type": "markdown",
   "metadata": {},
   "source": [
    "Dijkstra's Algo"
   ]
  },
  {
   "cell_type": "code",
   "execution_count": 37,
   "metadata": {},
   "outputs": [
    {
     "name": "stdout",
     "output_type": "stream",
     "text": [
      "[[0, 5, 7], [5, 0, 9], [7, 9, 0]]\n"
     ]
    }
   ],
   "source": [
    "class Graph:\n",
    "    def __init__(self, numNodes):\n",
    "        self.edges = [ [None]*numNodes for _ in range(numNodes)]\n",
    "\n",
    "        for i in range(len(self.edges)):\n",
    "            self.edges[i][i] = 0\n",
    "\n",
    "    def add_oneway_edge(self, a, b, cost):\n",
    "        if a < len(self.edges) and b < len(self.edges):\n",
    "            self.edges[a][b] = cost\n",
    "        else: \n",
    "            print('Out of Bounds')\n",
    "\n",
    "    def add_twoway_edge(self, a, b, cost):\n",
    "        self.add_oneway_edge(a, b, cost)\n",
    "        self.add_oneway_edge(b, a, cost)\n",
    "\n",
    "graph = Graph(3)\n",
    "graph.add_twoway_edge(0, 1, 5)\n",
    "graph.add_twoway_edge(0, 2, 7)\n",
    "graph.add_twoway_edge(1, 2, 9)\n",
    "print(graph.edges)"
   ]
  },
  {
   "cell_type": "code",
   "execution_count": 47,
   "metadata": {},
   "outputs": [],
   "source": [
    "def getMin(queue, distances):\n",
    "    minIndex = queue[0]\n",
    "    minDistance = distances[minIndex]\n",
    "\n",
    "    for node in queue:\n",
    "        if distances[node] < minDistance:\n",
    "            minIndex = node\n",
    "            minDistance = distances[node]\n",
    "\n",
    "    return minIndex"
   ]
  },
  {
   "cell_type": "code",
   "execution_count": 51,
   "metadata": {},
   "outputs": [
    {
     "data": {
      "text/plain": [
       "([0, 5, 7], [None, 0, 0])"
      ]
     },
     "execution_count": 51,
     "metadata": {},
     "output_type": "execute_result"
    }
   ],
   "source": [
    "def dijkstras(graph, source):\n",
    "    queue = []\n",
    "\n",
    "    distances = []\n",
    "    parents = []\n",
    "    for i in range(len(graph.edges)):\n",
    "        distances.append(float('inf'))\n",
    "        parents.append(None)\n",
    "        queue.append(i)\n",
    "\n",
    "    distances[source] = 0\n",
    "    \n",
    "    while len(queue) > 0:\n",
    "        curr = getMin(queue, distances)\n",
    "        queue.remove(curr)\n",
    "\n",
    "        for j in range(len(graph.edges)):\n",
    "            if j in queue and graph.edges[curr][j] is not None:\n",
    "                temp = distances[curr] + graph.edges[curr][j]\n",
    "                if temp < distances[j]:\n",
    "                    distances[j] = temp\n",
    "                    parents[j] = curr\n",
    "\n",
    "    return distances, parents\n",
    "\n",
    "\n",
    "dijkstras(graph, 0)"
   ]
  },
  {
   "cell_type": "code",
   "execution_count": null,
   "metadata": {},
   "outputs": [],
   "source": []
  }
 ],
 "metadata": {
  "kernelspec": {
   "display_name": "Python 3",
   "language": "python",
   "name": "python3"
  },
  "language_info": {
   "codemirror_mode": {
    "name": "ipython",
    "version": 3
   },
   "file_extension": ".py",
   "mimetype": "text/x-python",
   "name": "python",
   "nbconvert_exporter": "python",
   "pygments_lexer": "ipython3",
   "version": "3.12.4"
  }
 },
 "nbformat": 4,
 "nbformat_minor": 2
}
