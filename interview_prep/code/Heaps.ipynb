{
 "cells": [
  {
   "cell_type": "markdown",
   "metadata": {},
   "source": [
    "Min-Heap implementation"
   ]
  },
  {
   "cell_type": "code",
   "execution_count": 24,
   "metadata": {},
   "outputs": [],
   "source": [
    "class Heap:\n",
    "    def __init__(self):\n",
    "        self.heap = []\n",
    "\n",
    "    def add_value(self, value):\n",
    "        heap = self.heap\n",
    "\n",
    "        heap.append(value)\n",
    "        index = len(heap) - 1\n",
    "\n",
    "        while index > 0:\n",
    "            parent = (index - 1) // 2\n",
    "            if heap[parent] > heap[index]:\n",
    "                heap[index], heap[parent] = heap[parent], heap[index]\n",
    "                index = parent\n",
    "            else:\n",
    "                break\n",
    "\n",
    "    def delete_value(self, value):\n",
    "        heap = self.heap\n",
    "        index = -1\n",
    "\n",
    "        for i in range(len(heap)):\n",
    "            if heap[i] == value:\n",
    "                index = i\n",
    "        if index == -1:\n",
    "            return\n",
    "\n",
    "        #get the last value and move it up to current\n",
    "        heap[index] = heap[-1]\n",
    "        heap.pop()\n",
    "\n",
    "        self.heapify_down(index)\n",
    "\n",
    "    def heapify(self, arr):\n",
    "        self.heap = arr[:]\n",
    "        for i in range((len(self.heap) // 2) - 1, -1, -1):\n",
    "            self.heapify_down(i)    \n",
    "\n",
    "    def heapify_down(self, index):\n",
    "        heap = self.heap\n",
    "\n",
    "        while True:\n",
    "            left = (index * 2) + 1\n",
    "            right = (index * 2) + 2\n",
    "            smallest = index\n",
    "\n",
    "            if left < len(heap) and heap[left] < heap[smallest]:\n",
    "                smallest = left\n",
    "            if right < len(heap) and heap[right] < heap[smallest]:\n",
    "                smallest = right\n",
    "\n",
    "            #switch positions\n",
    "            if index != smallest:\n",
    "                heap[index], heap[smallest] = heap[smallest], heap[index]\n",
    "                index = smallest\n",
    "            else:\n",
    "                break\n",
    "\n",
    "\n"
   ]
  },
  {
   "cell_type": "markdown",
   "metadata": {},
   "source": [
    "Add Value:\n",
    "Add value to the last position of the heap\n",
    "Then see if the parent is larger, if so, switch parent and current position\n",
    "\n",
    "Delete Value:\n",
    "Overwrite current value with the last value in the heap (the largest)\n",
    "The heapify down to reorder heap\n",
    "\n",
    "Heapify Down:\n",
    "Starting at curr index\n",
    "*left is always though to be smaller than right?\n",
    "Check what is smallest: current, left, right\n",
    "    if current index is smallest, you have an ordered heap - break\n",
    "    else, switch smallest and current\n",
    "        Move current index down to the smaller position"
   ]
  },
  {
   "cell_type": "code",
   "execution_count": 25,
   "metadata": {},
   "outputs": [
    {
     "name": "stdout",
     "output_type": "stream",
     "text": [
      "[1, 2, 5, 2, 9, 19, 5, 8]\n"
     ]
    }
   ],
   "source": [
    "myHeap = Heap()\n",
    "\n",
    "myHeap.heapify([19, 2, 5, 8, 9, 1, 5, 2])\n",
    "print(myHeap.heap)\n",
    "\n",
    "# myHeap = Heap()\n",
    "# myHeap.add_value(3)\n",
    "# myHeap.add_value(1)\n",
    "# myHeap.add_value(6)\n",
    "# myHeap.add_value(5)\n",
    "# myHeap.add_value(1)\n",
    "# myHeap.add_value(2)\n",
    "# myHeap.add_value(8)\n",
    "# print(myHeap.heap)\n",
    "# myHeap.delete_value(2)\n",
    "# print(myHeap.heap)"
   ]
  }
 ],
 "metadata": {
  "kernelspec": {
   "display_name": "Python 3",
   "language": "python",
   "name": "python3"
  },
  "language_info": {
   "codemirror_mode": {
    "name": "ipython",
    "version": 3
   },
   "file_extension": ".py",
   "mimetype": "text/x-python",
   "name": "python",
   "nbconvert_exporter": "python",
   "pygments_lexer": "ipython3",
   "version": "3.12.4"
  }
 },
 "nbformat": 4,
 "nbformat_minor": 2
}
