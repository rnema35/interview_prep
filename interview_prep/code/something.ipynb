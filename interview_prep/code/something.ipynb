{
 "cells": [
  {
   "cell_type": "code",
   "execution_count": 4,
   "metadata": {},
   "outputs": [
    {
     "name": "stdout",
     "output_type": "stream",
     "text": [
      "13\n"
     ]
    }
   ],
   "source": [
    "def solution(T):\n",
    "    ans = 0\n",
    "    currTotalHours = 0\n",
    "\n",
    "    while len(T) > 0:\n",
    "        T = [x - 1 for x in T]\n",
    "\n",
    "        indexesZero = [i for i, x in enumerate(T) if x == 0]\n",
    "\n",
    "        for i in indexesZero:\n",
    "            ans += i + 1 + currTotalHours\n",
    "        \n",
    "        currTotalHours += len(T)\n",
    "        T = [x for x in T if x != 0]\n",
    "\n",
    "    return ans\n",
    "\n",
    "sol = solution([3, 1, 2])\n",
    "print(sol)"
   ]
  }
 ],
 "metadata": {
  "kernelspec": {
   "display_name": "Python 3",
   "language": "python",
   "name": "python3"
  },
  "language_info": {
   "codemirror_mode": {
    "name": "ipython",
    "version": 3
   },
   "file_extension": ".py",
   "mimetype": "text/x-python",
   "name": "python",
   "nbconvert_exporter": "python",
   "pygments_lexer": "ipython3",
   "version": "3.12.4"
  }
 },
 "nbformat": 4,
 "nbformat_minor": 2
}
